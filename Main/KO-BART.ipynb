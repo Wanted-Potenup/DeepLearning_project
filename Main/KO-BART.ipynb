{
 "cells": [
  {
   "cell_type": "markdown",
   "metadata": {},
   "source": [
    "# Kobart tutorial"
   ]
  },
  {
   "cell_type": "code",
   "execution_count": 6,
   "metadata": {},
   "outputs": [],
   "source": [
    "from transformers import PreTrainedTokenizerFast, BartModel, BartForConditionalGeneration\n",
    "import torch"
   ]
  },
  {
   "cell_type": "code",
   "execution_count": 41,
   "metadata": {},
   "outputs": [
    {
     "name": "stderr",
     "output_type": "stream",
     "text": [
      "You passed along `num_labels=3` with an incompatible id to label map: {'0': 'NEGATIVE', '1': 'POSITIVE'}. The number of labels wil be overwritten to 2.\n"
     ]
    }
   ],
   "source": [
    "tokenizer = PreTrainedTokenizerFast.from_pretrained('digit82/kobart-summarization')\n",
    "model = BartForConditionalGeneration.from_pretrained('digit82/kobart-summarization')"
   ]
  },
  {
   "cell_type": "code",
   "execution_count": 43,
   "metadata": {},
   "outputs": [
    {
     "data": {
      "text/plain": [
       "'미국 도널드 트럼프 대통령 2기 정부의 관세 정책과 계엄 이후 국내 정치 불안 등을 반영해 올해 성장률 전망치를 1.9%에서 1.5%로 한꺼번에 0.4%p나 낮춰 한국 경제의 하강 속도를 어느 정도 늦출 수 있다고 판단한 한국은행 금융통화위원회가 25일 올해 두 번째 통화정책방향 회의에서 기준금리를 연 3.00%에서 연 2.75%로 0.25%포인트(p) 낮췄다.'"
      ]
     },
     "execution_count": 43,
     "metadata": {},
     "output_type": "execute_result"
    }
   ],
   "source": [
    "text = \"\"\"\n",
    "서울=연합뉴스) 신호경 한지훈 민선희 기자 = 한국은행 금융통화위원회(이하 금통위)가 25일 올해 두 번째 통화정책방향 회의에서 시장 예상대로 기준금리를 연 3.00%에서 연 2.75%로 0.25%포인트(p) 낮췄다.\n",
    "여전히 1,430원을 넘나드는 원/달러 환율 부담에도 금통위가 다시 금리 인하로 통화 완화에 나선 것은, 그만큼 한국 경제가 국내외 악재 속에 빠르게 추락 중이라고 판단했기 때문이다.\n",
    "한은도 이날 미국 도널드 트럼프 대통령 2기 정부의 관세 정책과 계엄 이후 국내 정치 불안 등을 반영해 올해 성장률 전망치를 1.9%에서 1.5%로 한꺼번에 0.4%p나 낮춰 잡았다.\n",
    "이런 상황에서 금리를 내리고 시중에 돈을 풀어 민간 소비·투자 등 내수라도 살려야 한국 경제의 하강 속도를 어느 정도 늦출 수 있다고 본 것으로 해석된다.\n",
    "금통위는 이날 통화정책방향 회의 의결문에서 인하 배경과 관련해 \"외환시장의 경계감이 여전하지만 물가 상승률 안정세와 가계부채 둔화 흐름이 지속되는 가운데 성장률은 크게 낮아질 것\"이라며 \"기준금리를 추가 인하해 경기 하방 압력을 완화하는 것이 적절하다고 판단했다\"고 밝혔다.\n",
    "금통위는 작년 10월 기준금리를 0.25%p 낮추면서 3년여만에 통화정책의 키를 완화 쪽으로 틀었고, 11월에도 시장의 예상을 깨고 추가 인하를 단행했다.\n",
    "금통위가 잇따라 금리를 낮춘 것은 금융위기 당시 6연속 인하(2008년 10월∼2009년 2월) 이후 처음으로, 그만큼 경기와 성장 부진의 징후가 뚜렷해졌기 때문이다.\n",
    "더구나 지난해 말 이후 계엄·탄핵 사태까지 겹쳐 소비·투자 등 내수 위축 우려가 더 커지자 3연속 인하를 통한 경기 부양을 촉구하는 목소리도 높아졌다.\n",
    "하지만 금통위는 지난달 회의에서 시장의 기대를 깨고 금리를 3.00%로 유지했다. 국내 정치 불안으로 급등한 환율 위험 등을 동결 근거로 들었다.\n",
    "당시 이창용 한은 총재는 \"경기 상황만 보면 지금 금리를 내리는 게 당연하다\"면서도 \"계엄 등 정치적 이유로 원/달러 환율이 30원 정도 펀더멘털(경제 기초체력)에 비해 더 오른 것으로 분석된다. 두 차례 금리 인하 효과도 지켜볼 겸 숨 고르기를 하면서 정세에 따라 (금리 인하 여부를) 판단하는 게 더 신중하고 바람직하다\"고 설명했다.\n",
    "하지만 1월 금통위 회의 이후 경기·성장 지표가 예상보다 더 나쁜 것으로 속속 확인되고, 트럼프 정부가 주도하는 관세전쟁 위험도 고조됐다.\n",
    "지난해 실질 국내총생산(GDP) 성장률은 소비·건설투자 등 내수 부진에 비상계엄 이후 정국 혼란까지 겹쳐 당초 한은 전망치(2.2%)보다 0.2%p나 낮은 2.0%에 그쳤다. 특히 4분기 성장률(전분기 대비)은 저조한 건설투자(-3.2%) 등의 영향으로 3분기와 같은 0.1%에 머물며 반등에 실패했다.\n",
    "더구나 우리나라 주력 수출 상품인 자동차·반도체 등에까지 미국이 10∼25%의 높은 관세를 부과할 가능성도 커지고 있다.\n",
    "이에 따라 국내외 기관의 올해 한국 경제 성장 눈높이도 계속 낮아지는 추세다. 한국개발연구원(KDI)은 지난 11일 올해 성장률 전망치를 2.0%에서 1.6%로 내렸고, 계엄 전까지 2.0%에 이르던 해외 투자은행(IB)들의 평균도 최근 1.6%까지 떨어졌다.\n",
    "결국 한은까지 이날 올해 성장률 전망치를 1.9%에서 1.5%로 끌어내리자, 금통위도 \"이자 부담을 줄여줘야 민간 소비·투자가 살아나고 자영업자·취약계층의 형편도 나아진다\"는 주장과 압박을 두 달 연속 외면하기 어려웠을 것으로 짐작된다.\n",
    "특히 재정정책 측면에서 추가경정예산 편성이 불투명한 가운데, 일단 통화정책만이라도 서둘러 경기를 지원할 수밖에 없는 상황이다.\n",
    "금통위는 의결문에서 \"앞으로 국내 경제는 경제 심리 위축, 미국 관세정책 등의 영향으로 내수 회복세와 수출 증가세가 당초 예상보다 낮을 것\"이라며 \"향후 성장경로에서 주요국 통상정책과 미국 연방준비제도(연준·Fed) 통화정책 방향, 국내 정치 상황 변화, 정부 경기부양책 등과 관련한 불확실성이 크다\"고 진단했다.\n",
    "아울러 최근 세계 여러 나라들도 미국의 관세 정책이나 경기 침체 등에 대응해 전반적으로 기준금리를 내리는 추세다.\n",
    "\"\"\"\n",
    "\n",
    "text = text.replace('\\n', ' ')\n",
    "\n",
    "raw_input_ids = tokenizer.encode(text)\n",
    "input_ids = [tokenizer.bos_token_id] + raw_input_ids + [tokenizer.eos_token_id]\n",
    "\n",
    "summary_ids = model.generate(torch.tensor([input_ids]),  num_beams=6,  min_length=32, max_length=256,  eos_token_id=1)\n",
    "tokenizer.decode(summary_ids.squeeze().tolist(), skip_special_tokens=True)"
   ]
  },
  {
   "cell_type": "code",
   "execution_count": null,
   "metadata": {},
   "outputs": [],
   "source": []
  }
 ],
 "metadata": {
  "kernelspec": {
   "display_name": "torch_conda",
   "language": "python",
   "name": "python3"
  },
  "language_info": {
   "codemirror_mode": {
    "name": "ipython",
    "version": 3
   },
   "file_extension": ".py",
   "mimetype": "text/x-python",
   "name": "python",
   "nbconvert_exporter": "python",
   "pygments_lexer": "ipython3",
   "version": "3.11.9"
  }
 },
 "nbformat": 4,
 "nbformat_minor": 2
}
